{
 "cells": [
  {
   "cell_type": "code",
   "execution_count": 1,
   "metadata": {},
   "outputs": [],
   "source": [
    "import tensorflow as tf"
   ]
  },
  {
   "cell_type": "code",
   "execution_count": 2,
   "metadata": {},
   "outputs": [],
   "source": [
    "class myCallback(tf.keras.callbacks.Callback):\n",
    "    def on_epoch_end(self, epoch, logs={}):\n",
    "        if(logs.get('accuracy')>0.95):\n",
    "            print(\"\\nReached 95% accuracy so cancelling trianing!\")\n",
    "            self.model.stop_training = True"
   ]
  },
  {
   "cell_type": "code",
   "execution_count": 3,
   "metadata": {},
   "outputs": [],
   "source": [
    "callbacks = myCallback()"
   ]
  },
  {
   "cell_type": "code",
   "execution_count": 5,
   "metadata": {},
   "outputs": [],
   "source": [
    "mnist = tf.keras.datasets.fashion_mnist"
   ]
  },
  {
   "cell_type": "code",
   "execution_count": 7,
   "metadata": {},
   "outputs": [],
   "source": [
    "(training_images, training_labels), (test_images, test_labels) = mnist.load_data()"
   ]
  },
  {
   "cell_type": "code",
   "execution_count": 8,
   "metadata": {},
   "outputs": [],
   "source": [
    "training_images = training_images / 255.0\n",
    "test_images = test_images / 255.0"
   ]
  },
  {
   "cell_type": "code",
   "execution_count": 9,
   "metadata": {},
   "outputs": [],
   "source": [
    "model = tf.keras.models.Sequential([\n",
    "    tf.keras.layers.Flatten(),\n",
    "    tf.keras.layers.Dense(128, activation=tf.nn.relu),\n",
    "    tf.keras.layers.Dense(10, activation=tf.nn.softmax)\n",
    "])"
   ]
  },
  {
   "cell_type": "code",
   "execution_count": 10,
   "metadata": {},
   "outputs": [],
   "source": [
    "model.compile(optimizer='adam', loss='sparse_categorical_crossentropy', metrics=['accuracy'])"
   ]
  },
  {
   "cell_type": "code",
   "execution_count": 11,
   "metadata": {},
   "outputs": [
    {
     "name": "stdout",
     "output_type": "stream",
     "text": [
      "Epoch 1/50\n",
      "1875/1875 [==============================] - 5s 2ms/step - loss: 0.4979 - accuracy: 0.8270\n",
      "Epoch 2/50\n",
      "1875/1875 [==============================] - 4s 2ms/step - loss: 0.3758 - accuracy: 0.8641\n",
      "Epoch 3/50\n",
      "1875/1875 [==============================] - 4s 2ms/step - loss: 0.3377 - accuracy: 0.8767\n",
      "Epoch 4/50\n",
      "1875/1875 [==============================] - 4s 2ms/step - loss: 0.3149 - accuracy: 0.8850\n",
      "Epoch 5/50\n",
      "1875/1875 [==============================] - 5s 3ms/step - loss: 0.2943 - accuracy: 0.8931\n",
      "Epoch 6/50\n",
      "1875/1875 [==============================] - 5s 2ms/step - loss: 0.2801 - accuracy: 0.8977\n",
      "Epoch 7/50\n",
      "1875/1875 [==============================] - 5s 3ms/step - loss: 0.2676 - accuracy: 0.9007\n",
      "Epoch 8/50\n",
      "1875/1875 [==============================] - 5s 2ms/step - loss: 0.2583 - accuracy: 0.9039\n",
      "Epoch 9/50\n",
      "1875/1875 [==============================] - 5s 3ms/step - loss: 0.2481 - accuracy: 0.9077\n",
      "Epoch 10/50\n",
      "1875/1875 [==============================] - 4s 2ms/step - loss: 0.2388 - accuracy: 0.9109\n",
      "Epoch 11/50\n",
      "1875/1875 [==============================] - 4s 2ms/step - loss: 0.2297 - accuracy: 0.9141\n",
      "Epoch 12/50\n",
      "1875/1875 [==============================] - 4s 2ms/step - loss: 0.2214 - accuracy: 0.9173\n",
      "Epoch 13/50\n",
      "1875/1875 [==============================] - 5s 2ms/step - loss: 0.2154 - accuracy: 0.9198\n",
      "Epoch 14/50\n",
      "1875/1875 [==============================] - 5s 3ms/step - loss: 0.2080 - accuracy: 0.9214\n",
      "Epoch 15/50\n",
      "1875/1875 [==============================] - 4s 2ms/step - loss: 0.2023 - accuracy: 0.9240\n",
      "Epoch 16/50\n",
      "1875/1875 [==============================] - 4s 2ms/step - loss: 0.1956 - accuracy: 0.9269\n",
      "Epoch 17/50\n",
      "1875/1875 [==============================] - 4s 2ms/step - loss: 0.1926 - accuracy: 0.9273\n",
      "Epoch 18/50\n",
      "1875/1875 [==============================] - 5s 3ms/step - loss: 0.1868 - accuracy: 0.9293\n",
      "Epoch 19/50\n",
      "1875/1875 [==============================] - 5s 3ms/step - loss: 0.1819 - accuracy: 0.9315\n",
      "Epoch 20/50\n",
      "1875/1875 [==============================] - 7s 4ms/step - loss: 0.1799 - accuracy: 0.9323\n",
      "Epoch 21/50\n",
      "1875/1875 [==============================] - 5s 3ms/step - loss: 0.1747 - accuracy: 0.9345\n",
      "Epoch 22/50\n",
      "1875/1875 [==============================] - 4s 2ms/step - loss: 0.1704 - accuracy: 0.9368\n",
      "Epoch 23/50\n",
      "1875/1875 [==============================] - 5s 2ms/step - loss: 0.1651 - accuracy: 0.9377\n",
      "Epoch 24/50\n",
      "1875/1875 [==============================] - 5s 3ms/step - loss: 0.1617 - accuracy: 0.9384\n",
      "Epoch 25/50\n",
      "1875/1875 [==============================] - 5s 3ms/step - loss: 0.1580 - accuracy: 0.9410\n",
      "Epoch 26/50\n",
      "1875/1875 [==============================] - 5s 3ms/step - loss: 0.1550 - accuracy: 0.9422\n",
      "Epoch 27/50\n",
      "1875/1875 [==============================] - 5s 3ms/step - loss: 0.1512 - accuracy: 0.9435\n",
      "Epoch 28/50\n",
      "1875/1875 [==============================] - 5s 3ms/step - loss: 0.1489 - accuracy: 0.9440\n",
      "Epoch 29/50\n",
      "1875/1875 [==============================] - 6s 3ms/step - loss: 0.1446 - accuracy: 0.9455\n",
      "Epoch 30/50\n",
      "1875/1875 [==============================] - 4s 2ms/step - loss: 0.1410 - accuracy: 0.9475\n",
      "Epoch 31/50\n",
      "1875/1875 [==============================] - 4s 2ms/step - loss: 0.1404 - accuracy: 0.9473\n",
      "Epoch 32/50\n",
      "1875/1875 [==============================] - 4s 2ms/step - loss: 0.1376 - accuracy: 0.9476\n",
      "Epoch 33/50\n",
      "1875/1875 [==============================] - 4s 2ms/step - loss: 0.1344 - accuracy: 0.9488\n",
      "Epoch 34/50\n",
      "1874/1875 [============================>.] - ETA: 0s - loss: 0.1319 - accuracy: 0.9509\n",
      "Reached 95% accuracy so cancelling trianing!\n",
      "1875/1875 [==============================] - 5s 2ms/step - loss: 0.1318 - accuracy: 0.9509\n"
     ]
    },
    {
     "data": {
      "text/plain": [
       "<keras.callbacks.History at 0x252a1509c00>"
      ]
     },
     "execution_count": 11,
     "metadata": {},
     "output_type": "execute_result"
    }
   ],
   "source": [
    "model.fit(training_images, training_labels, epochs=50, callbacks=[callbacks])"
   ]
  },
  {
   "cell_type": "code",
   "execution_count": 12,
   "metadata": {},
   "outputs": [
    {
     "name": "stdout",
     "output_type": "stream",
     "text": [
      "313/313 [==============================] - 1s 2ms/step - loss: 0.4228 - accuracy: 0.8898\n"
     ]
    },
    {
     "data": {
      "text/plain": [
       "[0.422762930393219, 0.8898000121116638]"
      ]
     },
     "execution_count": 12,
     "metadata": {},
     "output_type": "execute_result"
    }
   ],
   "source": [
    "model.evaluate(test_images, test_labels)"
   ]
  },
  {
   "cell_type": "code",
   "execution_count": null,
   "metadata": {},
   "outputs": [],
   "source": []
  }
 ],
 "metadata": {
  "kernelspec": {
   "display_name": "venv",
   "language": "python",
   "name": "python3"
  },
  "language_info": {
   "codemirror_mode": {
    "name": "ipython",
    "version": 3
   },
   "file_extension": ".py",
   "mimetype": "text/x-python",
   "name": "python",
   "nbconvert_exporter": "python",
   "pygments_lexer": "ipython3",
   "version": "3.10.7"
  },
  "orig_nbformat": 4
 },
 "nbformat": 4,
 "nbformat_minor": 2
}
